{
 "cells": [
  {
   "cell_type": "code",
   "execution_count": 5,
   "metadata": {},
   "outputs": [],
   "source": [
    "import pandas as pd\n",
    "import os\n",
    "import plotly.express as px\n",
    "import seaborn as sns\n",
    "\n",
    "trial = f'Trial14'\n",
    "dirname = os.listdir(f'data/{trial}')[0]\n",
    "df = pd.read_csv(f'data/{trial}/{dirname}/battery.csv',header=None)\n",
    "df[0] = df[0].astype(int)\n",
    "df[1] = df[1].astype(float)\n",
    "df[0] = df[0] - df[0][0]\n",
    "df[0] = df[0] * .001\n",
    "fig = px.line(df,x=0,y=1)\n",
    "fig.show(renderer='browser')"
   ]
  },
  {
   "cell_type": "code",
   "execution_count": 6,
   "metadata": {},
   "outputs": [
    {
     "name": "stdout",
     "output_type": "stream",
     "text": [
      "percent per hour : 8.966569745875672\n",
      "estimated total duration : 11.152536904761904\n"
     ]
    }
   ],
   "source": [
    "start_time = df.iloc[0,0]\n",
    "end_time = df.iloc[-1,0]\n",
    "start_capacity = df.iloc[0,1]\n",
    "end_capacity = df.iloc[-1,1]\n",
    "pph = (start_capacity-end_capacity)/((end_time-start_time)/3600) # percent per hour\n",
    "print(f'percent per hour : {pph}')\n",
    "print(f'estimated total duration : {100/pph}')"
   ]
  }
 ],
 "metadata": {
  "kernelspec": {
   "display_name": "Python 3.10.12 64-bit",
   "language": "python",
   "name": "python3"
  },
  "language_info": {
   "codemirror_mode": {
    "name": "ipython",
    "version": 3
   },
   "file_extension": ".py",
   "mimetype": "text/x-python",
   "name": "python",
   "nbconvert_exporter": "python",
   "pygments_lexer": "ipython3",
   "version": "3.11.4"
  },
  "orig_nbformat": 4,
  "vscode": {
   "interpreter": {
    "hash": "916dbcbb3f70747c44a77c7bcd40155683ae19c65e1c03b4aa3499c5328201f1"
   }
  }
 },
 "nbformat": 4,
 "nbformat_minor": 2
}
